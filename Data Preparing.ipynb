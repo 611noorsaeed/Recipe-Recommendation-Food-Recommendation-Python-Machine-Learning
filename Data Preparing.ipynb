{
 "cells": [
  {
   "cell_type": "code",
   "execution_count": null,
   "id": "dbe37a11",
   "metadata": {},
   "outputs": [],
   "source": [
    "import pandas as pd\n",
    "import matplotlib.pyplot as plt\n",
    "import matplotlib.gridspec as gridspec\n",
    "import ast\n",
    "from sklearn import preprocessing\n",
    "import numpy as np\n",
    "from sklearn.preprocessing import normalize\n",
    "from keras.preprocessing import image\n",
    "from time import time\n",
    "from scipy.spatial.distance import cosine, euclidean, hamming"
   ]
  },
  {
   "cell_type": "code",
   "execution_count": null,
   "id": "4bd10c12",
   "metadata": {},
   "outputs": [],
   "source": [
    "recipe = pd.read_csv('/kaggle/input/foodrecsysv1/raw-data_recipe.csv')\n",
    "recipe = recipe.drop(columns=['cooking_directions', 'reviews'])\n",
    "recipe.head()"
   ]
  },
  {
   "cell_type": "code",
   "execution_count": null,
   "id": "bff72b61",
   "metadata": {},
   "outputs": [],
   "source": [
    "# round average rating into 2 decimal places\n",
    "def avg_rate(col):\n",
    "    return f'{col:.2f}'\n",
    "recipe.aver_rate = recipe.aver_rate.apply(avg_rate)\n",
    "recipe.head()"
   ]
  },
  {
   "cell_type": "code",
   "execution_count": null,
   "id": "9271c898",
   "metadata": {},
   "outputs": [],
   "source": [
    "recipe.aver_rate = recipe.aver_rate.astype(float)\n",
    "recipe.dtypes\n",
    "list_of_dict = []\n",
    "\n",
    "for row in recipe.nutritions:\n",
    "    list_of_dict.append(ast.literal_eval(row))\n",
    "list_of_dict[1]\n",
    "\n",
    "\n",
    "'18'\n",
    "# extract percent daily values for selected nutritions\n",
    "calories_list = []\n",
    "fat_list = []\n",
    "carbohydrates_list = []\n",
    "protein_list = []\n",
    "cholesterol_list = []\n",
    "sodium_list = []\n",
    "fiber_list = []\n",
    "\n",
    "for x in range(len(list_of_dict)):\n",
    "    calories_list.append(list_of_dict[x]['calories']['percentDailyValue'])\n",
    "    fat_list.append(list_of_dict[x]['fat']['percentDailyValue'])\n",
    "    carbohydrates_list.append(list_of_dict[x]['carbohydrates']['percentDailyValue'])\n",
    "    protein_list.append(list_of_dict[x]['protein']['percentDailyValue'])\n",
    "    cholesterol_list.append(list_of_dict[x]['cholesterol']['percentDailyValue'])\n",
    "    sodium_list.append(list_of_dict[x]['sodium']['percentDailyValue'])\n",
    "    fiber_list.append(list_of_dict[x]['fiber']['percentDailyValue'])\n",
    "    \n",
    "    \n",
    "# group all the data into dataframe\n",
    "data = {'calories': calories_list, 'fat': fat_list, 'carbohydrates': carbohydrates_list, \n",
    "       'protein': protein_list, 'cholesterol': cholesterol_list, 'sodium': sodium_list, \n",
    "       'fiber': fiber_list}\n",
    "\n",
    "df = pd.DataFrame(data)\n",
    "df.index = recipe['recipe_id']\n",
    "df.head()"
   ]
  },
  {
   "cell_type": "code",
   "execution_count": null,
   "id": "90622ece",
   "metadata": {},
   "outputs": [],
   "source": [
    "print(df.shape)\n",
    "df = df.dropna()\n",
    "def text_cleaning(cols):\n",
    "    if cols == '< 1':\n",
    "        return 1\n",
    "    else:\n",
    "        return cols\n",
    "\n",
    "for col in df.columns:\n",
    "    df[col] = df[col].apply(text_cleaning)\n",
    "df = df.apply(pd.to_numeric)\n",
    "# normalized nutrition data by columns\n",
    "df_normalized = pd.DataFrame(normalize(df, axis=0))\n",
    "df_normalized.columns = df.columns\n",
    "df_normalized.index = df.index\n",
    "df_normalized.head()\n",
    "\n",
    "\n",
    "# show recipe id, recipe name and image of selected recipe\n",
    "def selected_recipe(recipe_id):\n",
    "    image_path = \"/kaggle/input/foodrecsysv1/raw-data-images/raw-data-images/{}.jpg\"\n",
    "    image_path = image_path.format(recipe_id)\n",
    "    \n",
    "    img = image.load_img(image_path)\n",
    "    img = image.img_to_array(img, dtype='int')\n",
    "        \n",
    "    fig, ax = plt.subplots(1,1)\n",
    "    ax.imshow(img)\n",
    "    ax.axis('off')\n",
    "    \n",
    "    recipe_df = recipe.set_index('recipe_id')\n",
    "    x = \"{}  {}\".format(recipe_id, recipe_df.at[recipe_id, 'recipe_name'])\n",
    "    ax.set_title(x)\n",
    "    \n",
    "    print(df.loc[df.index.isin([recipe_id])].transpose())\n",
    "    \n",
    "selected_recipe(87211)\n",
    "\n",
    "\n",
    "recipe_final= pd.merge(recipe, df, on='recipe_id')\n",
    "recipe_final= recipe_final.drop(columns=['nutritions'])\n",
    "\n",
    "recipe_final.to_csv(\"recipe_final.csv\")"
   ]
  },
  {
   "cell_type": "code",
   "execution_count": null,
   "id": "5a19a15f",
   "metadata": {},
   "outputs": [],
   "source": [
    "ingredients_list = []\n",
    "\n",
    "for x in range(len(recipe_final)):\n",
    "    ingredients_list.append(recipe_final['ingredients'][x].split('^'))\n",
    "data = {'ingredients_list': ingredients_list}\n",
    "df1 = pd.DataFrame(data)\n",
    "df1.index = recipe_final['recipe_id']\n",
    "df1.head()\n",
    "\n",
    "recipe_final= pd.merge(recipe_final, df1, on='recipe_id')\n",
    "recipe_final= recipe_final.drop(columns=['ingredients'])\n",
    "recipe_final.head()\n",
    "\n",
    "recipe_final.to_csv(\"recipe_final.csv\")"
   ]
  },
  {
   "cell_type": "code",
   "execution_count": null,
   "id": "768e6469",
   "metadata": {},
   "outputs": [],
   "source": []
  },
  {
   "cell_type": "code",
   "execution_count": null,
   "id": "2fe7e4e7",
   "metadata": {},
   "outputs": [],
   "source": []
  },
  {
   "cell_type": "code",
   "execution_count": null,
   "id": "da6ddcf1",
   "metadata": {},
   "outputs": [],
   "source": []
  },
  {
   "cell_type": "code",
   "execution_count": null,
   "id": "9c8449ff",
   "metadata": {},
   "outputs": [],
   "source": []
  }
 ],
 "metadata": {
  "kernelspec": {
   "display_name": "Python 3 (ipykernel)",
   "language": "python",
   "name": "python3"
  },
  "language_info": {
   "codemirror_mode": {
    "name": "ipython",
    "version": 3
   },
   "file_extension": ".py",
   "mimetype": "text/x-python",
   "name": "python",
   "nbconvert_exporter": "python",
   "pygments_lexer": "ipython3",
   "version": "3.9.12"
  }
 },
 "nbformat": 4,
 "nbformat_minor": 5
}
